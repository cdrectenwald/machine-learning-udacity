{
 "cells": [
  {
   "cell_type": "code",
   "execution_count": 1,
   "metadata": {},
   "outputs": [],
   "source": [
    "import math\n",
    "import pandas as pd\n",
    "import numpy as np\n",
    "import datetime as dt\n",
    "import time\n",
    "\n",
    "# import data visualization libraries\n",
    "import matplotlib.pyplot as plt\n",
    "import matplotlib.dates as mdates\n",
    "\n"
   ]
  },
  {
   "cell_type": "code",
   "execution_count": 2,
   "metadata": {},
   "outputs": [
    {
     "name": "stdout",
     "output_type": "stream",
     "text": [
      "         Date       Open       High        Low      Close  Adj Close    Volume\n",
      "0  2004-08-19  50.050049  52.082081  48.028027  50.220219  50.220219  44659000\n",
      "1  2004-08-20  50.555557  54.594593  50.300301  54.209209  54.209209  22834300\n",
      "2  2004-08-23  55.430431  56.796795  54.579578  54.754753  54.754753  18256100\n",
      "3  2004-08-24  55.675674  55.855854  51.836838  52.487488  52.487488  15247300\n",
      "4  2004-08-25  52.532532  54.054054  51.991993  53.053055  53.053055   9188600\n"
     ]
    }
   ],
   "source": [
    "def get_data(path):\n",
    "    dataframe = pd.read_csv(path)\n",
    "    print(dataframe.head())\n",
    "    return\n",
    "      \n",
    "\n",
    "    \n",
    "  \n",
    "\n",
    "data = get_data('GOOGL.csv')"
   ]
  },
  {
   "cell_type": "code",
   "execution_count": 3,
   "metadata": {},
   "outputs": [],
   "source": [
    "import csv\n",
    "\n",
    "with open('GOOGL.csv', 'r') as infile, open('GOOGL_ORDER.csv', 'a') as outfile:\n",
    "    \n",
    "    fieldnames = ['Date', 'Open', 'Volume','High','Low','Close', 'Adj Close']\n",
    "    writer = csv.DictWriter(outfile, fieldnames=fieldnames)\n",
    "\n",
    "    writer.writeheader()\n",
    "    for row in csv.DictReader(infile):\n",
    "      \n",
    "        writer.writerow(row)"
   ]
  },
  {
   "cell_type": "code",
   "execution_count": 33,
   "metadata": {},
   "outputs": [
    {
     "name": "stdout",
     "output_type": "stream",
     "text": [
      "\n",
      "         Date       Open    Volume       High        Low      Close  Adj Close\n",
      "0  2004-08-19  50.050049  44659000  52.082081  48.028027  50.220219  50.220219\n",
      "1  2004-08-20  50.555557  22834300  54.594593  50.300301  54.209209  54.209209\n",
      "2  2004-08-23  55.430431  18256100  56.796795  54.579578  54.754753  54.754753\n",
      "3  2004-08-24  55.675674  15247300  55.855854  51.836838  52.487488  52.487488\n",
      "4  2004-08-25  52.532532   9188600  54.054054  51.991993  53.053055  53.053055\n",
      "         Date       Open       High        Low      Close  Adj Close    Volume\n",
      "0  2004-08-19  50.050049  52.082081  48.028027  50.220219  50.220219  44659000\n",
      "1  2004-08-20  50.555557  54.594593  50.300301  54.209209  54.209209  22834300\n",
      "2  2004-08-23  55.430431  56.796795  54.579578  54.754753  54.754753  18256100\n",
      "3  2004-08-24  55.675674  55.855854  51.836838  52.487488  52.487488  15247300\n",
      "4  2004-08-25  52.532532  54.054054  51.991993  53.053055  53.053055   9188600\n"
     ]
    }
   ],
   "source": [
    "dataset=pd.read_csv('GOOGL_ORDER.csv')\n",
    "print(\"\")\n",
    "print(dataset.head())\n",
    "dataset1=pd.read_csv('GOOGL.csv')\n",
    "print(dataset1.head())"
   ]
  },
  {
   "cell_type": "code",
   "execution_count": 34,
   "metadata": {},
   "outputs": [
    {
     "name": "stdout",
     "output_type": "stream",
     "text": [
      "\n",
      "\n",
      "Open   => mean : 399.1946550272349   \t Std:  246.0043538931149   \t Max:  1140.310059   \t Min:  49.644646\n",
      "High   => mean : 402.6346727007102   \t Std:  247.318866050752   \t Max:  1148.880005   \t Min:  50.920921\n",
      "Low    => mean : 395.37474639253946   \t Std:  244.49253356916884   \t Max:  1126.660034   \t Min:  48.028027\n",
      "Close  => mean : 399.0763123217876   \t Std:  246.0436829440335   \t Max:  1139.099976   \t Min:  50.055054\n",
      "Volume => mean : 7896743.309650681   \t Std:  8274864.818135536   \t Max:  82151100   \t Min:  520600\n"
     ]
    }
   ],
   "source": [
    "print(\"\\n\")\n",
    "print(\"Open   => mean :\", np.mean(dataset['Open']),  \"  \\t Std: \", np.std(dataset['Open']),  \"  \\t Max: \", np.max(dataset['Open']),  \"  \\t Min: \", np.min(dataset['Open']))\n",
    "print(\"High   => mean :\", np.mean(dataset['High']),  \"  \\t Std: \", np.std(dataset['High']),  \"  \\t Max: \", np.max(dataset['High']),  \"  \\t Min: \", np.min(dataset['High']))\n",
    "print(\"Low    => mean :\", np.mean(dataset['Low']),   \"  \\t Std: \", np.std(dataset['Low']),   \"  \\t Max: \", np.max(dataset['Low']),   \"  \\t Min: \", np.min(dataset['Low']))\n",
    "print(\"Close  => mean :\", np.mean(dataset['Close']), \"  \\t Std: \", np.std(dataset['Close']), \"  \\t Max: \", np.max(dataset['Close']), \"  \\t Min: \", np.min(dataset['Close']))\n",
    "print(\"Volume => mean :\", np.mean(dataset['Volume']),\"  \\t Std: \", np.std(dataset['Volume']),\"  \\t Max: \", np.max(dataset['Volume']),\"  \\t Min: \", np.min(dataset['Volume']))"
   ]
  },
  {
   "cell_type": "code",
   "execution_count": 35,
   "metadata": {},
   "outputs": [
    {
     "data": {
      "text/plain": [
       "Text(0.5, 1.0, 'GOOGLE Stock Price from 2004-2018')"
      ]
     },
     "execution_count": 35,
     "metadata": {},
     "output_type": "execute_result"
    },
    {
     "data": {
      "image/png": "[encoded data removed]",
      "text/plain": [
       "<Figure size 432x288 with 1 Axes>"
      ]
     },
     "metadata": {
      "needs_background": "light"
     },
     "output_type": "display_data"
    }
   ],
   "source": [
    "import matplotlib.pyplot as plt\n",
    "\n",
    "dataset['Adj Close'].plot();\n",
    "plt.title(\"GOOGLE Stock Price from 2004-2018\")"
   ]
  },
  {
   "cell_type": "code",
   "execution_count": 7,
   "metadata": {},
   "outputs": [
    {
     "name": "stdout",
     "output_type": "stream",
     "text": [
      "[5.0555557e+01 2.2834300e+07 5.4594593e+01 5.0300301e+01 5.4209209e+01\n",
      " 5.4209209e+01]\n"
     ]
    }
   ],
   "source": [
    "#Benchmark Model\n",
    "\n",
    "from sklearn.preprocessing import MinMaxScaler\n",
    "import csv\n",
    "scaler = MinMaxScaler()\n",
    "data=dataset.iloc[:,1:7].values\n",
    "print(data[1])\n",
    "X = data[:,1:2]\n",
    "y = dataset['Close']\n",
    "\n",
    "y_new = []\n",
    "for i in y:\n",
    "    y_new.append([i])\n",
    "y_new = np.array(y_new)\n",
    "\n",
    "\n",
    "X = np.array(X)\n",
    "\n",
    "X=scaler.fit_transform(X)\n",
    "y_new=scaler.fit_transform(y_new)"
   ]
  },
  {
   "cell_type": "code",
   "execution_count": 8,
   "metadata": {},
   "outputs": [
    {
     "name": "stdout",
     "output_type": "stream",
     "text": [
      "[0.00083519 0.27335003 0.00334591 0.00210663 0.00381449 0.00381449]\n",
      "(3378, 1)\n",
      "(3378, 4)\n",
      "(3378, 1)\n"
     ]
    }
   ],
   "source": [
    "#LTSM Model\n",
    "\n",
    "\n",
    "\n",
    "new_data = scaler.fit_transform(data)\n",
    "print(new_data[1])\n",
    "\n",
    "train_X = new_data[:,0:4]\n",
    "\n",
    "train_y_old = new_data[:,5]\n",
    "\n",
    "train_Y = []\n",
    "for i in train_y_old:\n",
    "    train_Y.append([i])\n",
    "train_Y = np.array(train_Y)\n",
    "print(train_Y.shape)\n",
    "\n",
    "\n",
    "train_X = np.array(train_X)\n",
    "train_Y = np.array(train_Y)\n",
    "\n",
    "print(train_X .shape)\n",
    "print(train_Y.shape)\n",
    "\n",
    "\n",
    "\n"
   ]
  },
  {
   "cell_type": "code",
   "execution_count": 9,
   "metadata": {},
   "outputs": [
    {
     "name": "stdout",
     "output_type": "stream",
     "text": [
      "[0.27335003]\n",
      "[0.00381449]\n",
      "(2364, 1)\n",
      "(1014, 1)\n",
      "(2364, 1)\n",
      "(1014, 1)\n",
      "[[-0.41268131]]\n",
      "[0.24083176]\n"
     ]
    }
   ],
   "source": [
    "#Linear Regression Model\n",
    "#Split the data, first\n",
    "from sklearn.model_selection import train_test_split\n",
    "X_train, X_test, y_train, y_test = train_test_split(X, y_new, test_size = 0.3,shuffle = False,random_state = 0)\n",
    "print(X_train[1])\n",
    "print(y_train[1])\n",
    "print(X_train.shape)\n",
    "print(X_test.shape)\n",
    "print(y_train.shape)\n",
    "print(y_test.shape)\n",
    "\n",
    "\n",
    "#initialize the model, second\n",
    "from sklearn.linear_model import LinearRegression\n",
    "model= LinearRegression()\n",
    "model =model.fit(X_train,y_train)\n",
    "predicted_price = model.predict(X_test)\n",
    "predicted_train = model.predict(X_train)\n",
    "print(model.coef_)\n",
    "print(model.intercept_)"
   ]
  },
  {
   "cell_type": "code",
   "execution_count": 10,
   "metadata": {},
   "outputs": [
    {
     "data": {
      "image/png": "[encoded data removed]",
      "text/plain": [
       "<Figure size 432x288 with 1 Axes>"
      ]
     },
     "metadata": {
      "needs_background": "light"
     },
     "output_type": "display_data"
    },
    {
     "data": {
      "image/png": "[encoded data removed]",
      "text/plain": [
       "<Figure size 432x288 with 1 Axes>"
      ]
     },
     "metadata": {
      "needs_background": "light"
     },
     "output_type": "display_data"
    }
   ],
   "source": [
    "#display the result\n",
    "\n",
    "\n",
    "import matplotlib.pyplot as plt\n",
    "plt.plot(predicted_price, label='prediction')\n",
    "plt.plot(y_test, label='truth')\n",
    "plt.legend()\n",
    "plt.show()\n",
    "\n",
    "\n",
    "\n",
    "plt.plot(predicted_train, label='prediction')\n",
    "plt.plot(y_train, label='truth')\n",
    "plt.xlabel('Days since 8/14/2004')\n",
    "plt.legend()\n",
    "plt.show()"
   ]
  },
  {
   "cell_type": "code",
   "execution_count": 11,
   "metadata": {},
   "outputs": [
    {
     "data": {
      "text/plain": [
       "(-6.883813509711871, 0.4162894089239953)"
      ]
     },
     "execution_count": 11,
     "metadata": {},
     "output_type": "execute_result"
    }
   ],
   "source": [
    "#Calculating Errors\n",
    "\n",
    "\n",
    "from sklearn.metrics import r2_score, mean_squared_error\n",
    "r2_score(y_test,predicted_price),np.sqrt(mean_squared_error(y_test,predicted_price))\n",
    "\n"
   ]
  },
  {
   "cell_type": "code",
   "execution_count": 12,
   "metadata": {},
   "outputs": [],
   "source": [
    "#LTSM Model\n",
    "#splitting data"
   ]
  },
  {
   "cell_type": "code",
   "execution_count": 13,
   "metadata": {},
   "outputs": [
    {
     "name": "stdout",
     "output_type": "stream",
     "text": [
      "[0.00381449]\n",
      "(2364, 4)\n",
      "(1014, 4)\n",
      "(2364, 1)\n"
     ]
    }
   ],
   "source": [
    "\n",
    "\n",
    "\n",
    "\n",
    "from sklearn.model_selection import train_test_split\n",
    "X_train, X_test, y_train, y_test = train_test_split(train_X, train_Y, test_size = 0.3,shuffle = False,random_state = 0)\n",
    "print(y_train[1])\n",
    "print(X_train.shape)\n",
    "print(X_test.shape)\n",
    "print(y_train.shape)\n",
    "\n",
    "\n"
   ]
  },
  {
   "cell_type": "code",
   "execution_count": 14,
   "metadata": {},
   "outputs": [],
   "source": [
    "#Window Creation\n",
    "\n",
    "\n",
    "def windowing(data, window):\n",
    "    \n",
    "    sequence = []\n",
    "    for index in range(len(data) - window):\n",
    "        sequence.append(data[index: index + window])\n",
    "    return np.asarray(sequence)\n",
    "\n"
   ]
  },
  {
   "cell_type": "code",
   "execution_count": 15,
   "metadata": {},
   "outputs": [
    {
     "name": "stdout",
     "output_type": "stream",
     "text": [
      "x_train (2359, 5, 4)\n",
      "y_train (2359, 1)\n",
      "x_test (1009, 5, 4)\n",
      "y_test (1009, 1)\n"
     ]
    }
   ],
   "source": [
    "window = 5\n",
    "X_train2 = windowing(X_train, window)\n",
    "X_test2 = windowing(X_test, window)\n",
    "y_train2 = y_train[-X_train2.shape[0]:]\n",
    "y_test2 = y_test[-X_test2.shape[0]:]\n",
    "\n",
    "print(\"x_train\", X_train2.shape)\n",
    "print(\"y_train\", y_train2.shape)\n",
    "print(\"x_test\", X_test2.shape)\n",
    "print(\"y_test\", y_test2.shape)"
   ]
  },
  {
   "cell_type": "code",
   "execution_count": 16,
   "metadata": {},
   "outputs": [
    {
     "name": "stdout",
     "output_type": "stream",
     "text": [
      "(2364, 1, 4)\n"
     ]
    }
   ],
   "source": [
    "#Reshaping Data\n",
    "X_train = np.reshape(X_train, (X_train.shape[0], 1, X_train.shape[1]))\n",
    "X_test = np.reshape(X_test, (X_test.shape[0], 1, X_test.shape[1]))\n",
    "print(X_train.shape)"
   ]
  },
  {
   "cell_type": "code",
   "execution_count": 17,
   "metadata": {
    "scrolled": false
   },
   "outputs": [
    {
     "name": "stderr",
     "output_type": "stream",
     "text": [
      "Using TensorFlow backend.\n"
     ]
    },
    {
     "name": "stdout",
     "output_type": "stream",
     "text": [
      "Train on 2127 samples, validate on 237 samples\n",
      "Epoch 1/100\n",
      "2127/2127 [==============================] - 4s 2ms/step - loss: 0.1034 - mean_squared_error: 0.0220 - val_loss: 0.1352 - val_mean_squared_error: 0.0198\n",
      "Epoch 2/100\n",
      "2127/2127 [==============================] - 2s 1ms/step - loss: 0.0274 - mean_squared_error: 0.0014 - val_loss: 0.0415 - val_mean_squared_error: 0.0018\n",
      "Epoch 3/100\n",
      "2127/2127 [==============================] - 2s 1ms/step - loss: 0.0171 - mean_squared_error: 4.8029e-04 - val_loss: 0.0170 - val_mean_squared_error: 4.1794e-04\n",
      "Epoch 4/100\n",
      "2127/2127 [==============================] - 2s 1ms/step - loss: 0.0137 - mean_squared_error: 3.0318e-04 - val_loss: 0.0375 - val_mean_squared_error: 0.0015\n",
      "Epoch 5/100\n",
      "2127/2127 [==============================] - 2s 1ms/step - loss: 0.0136 - mean_squared_error: 2.8717e-04 - val_loss: 0.0362 - val_mean_squared_error: 0.0013\n",
      "Epoch 6/100\n",
      "2127/2127 [==============================] - 2s 1ms/step - loss: 0.0121 - mean_squared_error: 2.3992e-04 - val_loss: 0.0327 - val_mean_squared_error: 0.0011\n",
      "Epoch 7/100\n",
      "2127/2127 [==============================] - 2s 1ms/step - loss: 0.0119 - mean_squared_error: 2.3038e-04 - val_loss: 0.0153 - val_mean_squared_error: 2.4541e-04\n",
      "Epoch 8/100\n",
      "2127/2127 [==============================] - 2s 1ms/step - loss: 0.0123 - mean_squared_error: 2.4683e-04 - val_loss: 0.0090 - val_mean_squared_error: 9.0449e-05\n",
      "Epoch 9/100\n",
      "2127/2127 [==============================] - 2s 1ms/step - loss: 0.0106 - mean_squared_error: 1.8817e-04 - val_loss: 0.0162 - val_mean_squared_error: 2.8859e-04\n",
      "Epoch 10/100\n",
      "2127/2127 [==============================] - 2s 1ms/step - loss: 0.0108 - mean_squared_error: 1.8342e-04 - val_loss: 0.0138 - val_mean_squared_error: 2.2051e-04\n",
      "Epoch 11/100\n",
      "2127/2127 [==============================] - 2s 1ms/step - loss: 0.0101 - mean_squared_error: 1.6531e-04 - val_loss: 0.0189 - val_mean_squared_error: 4.2801e-04\n",
      "Epoch 12/100\n",
      "2127/2127 [==============================] - 2s 997us/step - loss: 0.0100 - mean_squared_error: 1.6005e-04 - val_loss: 0.0194 - val_mean_squared_error: 4.6428e-04\n",
      "Epoch 13/100\n",
      "2127/2127 [==============================] - 2s 1ms/step - loss: 0.0090 - mean_squared_error: 1.3101e-04 - val_loss: 0.0095 - val_mean_squared_error: 1.4779e-04\n",
      "Epoch 14/100\n",
      "2127/2127 [==============================] - 2s 1ms/step - loss: 0.0093 - mean_squared_error: 1.3738e-04 - val_loss: 0.0177 - val_mean_squared_error: 4.8468e-04\n",
      "Epoch 15/100\n",
      "2127/2127 [==============================] - 2s 1ms/step - loss: 0.0090 - mean_squared_error: 1.2886e-04 - val_loss: 0.0206 - val_mean_squared_error: 6.1178e-04\n",
      "Epoch 16/100\n",
      "2127/2127 [==============================] - 2s 1ms/step - loss: 0.0090 - mean_squared_error: 1.2682e-04 - val_loss: 0.0149 - val_mean_squared_error: 4.6965e-04\n",
      "Epoch 17/100\n",
      "2127/2127 [==============================] - 2s 1ms/step - loss: 0.0086 - mean_squared_error: 1.2054e-04 - val_loss: 0.0196 - val_mean_squared_error: 6.9645e-04\n",
      "Epoch 18/100\n",
      "2127/2127 [==============================] - 2s 1ms/step - loss: 0.0085 - mean_squared_error: 1.1593e-04 - val_loss: 0.0241 - val_mean_squared_error: 8.7660e-04\n",
      "Epoch 19/100\n",
      "2127/2127 [==============================] - 2s 1ms/step - loss: 0.0087 - mean_squared_error: 1.1615e-04 - val_loss: 0.0277 - val_mean_squared_error: 0.0011\n",
      "Epoch 20/100\n",
      "2127/2127 [==============================] - 2s 1ms/step - loss: 0.0081 - mean_squared_error: 1.0609e-04 - val_loss: 0.0213 - val_mean_squared_error: 8.0479e-04\n",
      "Epoch 21/100\n",
      "2127/2127 [==============================] - 2s 1ms/step - loss: 0.0077 - mean_squared_error: 9.3672e-05 - val_loss: 0.0380 - val_mean_squared_error: 0.0018\n",
      "Epoch 22/100\n",
      "2127/2127 [==============================] - 2s 1ms/step - loss: 0.0077 - mean_squared_error: 9.3469e-05 - val_loss: 0.0268 - val_mean_squared_error: 0.0011\n",
      "Epoch 23/100\n",
      "2127/2127 [==============================] - 2s 1ms/step - loss: 0.0079 - mean_squared_error: 9.8715e-05 - val_loss: 0.0339 - val_mean_squared_error: 0.0015\n",
      "Epoch 24/100\n",
      "2127/2127 [==============================] - 2s 1ms/step - loss: 0.0077 - mean_squared_error: 9.4985e-05 - val_loss: 0.0308 - val_mean_squared_error: 0.0014\n",
      "Epoch 25/100\n",
      "2127/2127 [==============================] - 2s 1ms/step - loss: 0.0079 - mean_squared_error: 9.7951e-05 - val_loss: 0.0340 - val_mean_squared_error: 0.0016\n",
      "Epoch 26/100\n",
      "2127/2127 [==============================] - 2s 1ms/step - loss: 0.0075 - mean_squared_error: 9.1656e-05 - val_loss: 0.0372 - val_mean_squared_error: 0.0018\n",
      "Epoch 27/100\n",
      "2127/2127 [==============================] - 2s 1ms/step - loss: 0.0073 - mean_squared_error: 8.4772e-05 - val_loss: 0.0401 - val_mean_squared_error: 0.0020\n",
      "Epoch 28/100\n",
      "2127/2127 [==============================] - 2s 1ms/step - loss: 0.0074 - mean_squared_error: 8.6337e-05 - val_loss: 0.0247 - val_mean_squared_error: 0.0010\n",
      "Epoch 29/100\n",
      "2127/2127 [==============================] - 2s 1ms/step - loss: 0.0072 - mean_squared_error: 8.2731e-05 - val_loss: 0.0329 - val_mean_squared_error: 0.0016\n",
      "Epoch 30/100\n",
      "2127/2127 [==============================] - 2s 1ms/step - loss: 0.0073 - mean_squared_error: 8.5705e-05 - val_loss: 0.0262 - val_mean_squared_error: 0.0011\n",
      "Epoch 31/100\n",
      "2127/2127 [==============================] - 2s 1ms/step - loss: 0.0070 - mean_squared_error: 7.8903e-05 - val_loss: 0.0321 - val_mean_squared_error: 0.0015\n",
      "Epoch 32/100\n",
      "2127/2127 [==============================] - 2s 1ms/step - loss: 0.0070 - mean_squared_error: 7.9049e-05 - val_loss: 0.0327 - val_mean_squared_error: 0.0015\n",
      "Epoch 33/100\n",
      "2127/2127 [==============================] - 2s 1ms/step - loss: 0.0067 - mean_squared_error: 7.3768e-05 - val_loss: 0.0315 - val_mean_squared_error: 0.0014\n",
      "Epoch 34/100\n",
      "2127/2127 [==============================] - 2s 1ms/step - loss: 0.0068 - mean_squared_error: 7.3433e-05 - val_loss: 0.0324 - val_mean_squared_error: 0.0014\n",
      "Epoch 35/100\n",
      "2127/2127 [==============================] - 2s 1ms/step - loss: 0.0068 - mean_squared_error: 7.3467e-05 - val_loss: 0.0330 - val_mean_squared_error: 0.0015\n",
      "Epoch 36/100\n",
      "2127/2127 [==============================] - 2s 1ms/step - loss: 0.0066 - mean_squared_error: 7.0633e-05 - val_loss: 0.0236 - val_mean_squared_error: 9.2873e-04\n",
      "Epoch 37/100\n",
      "2127/2127 [==============================] - 2s 1ms/step - loss: 0.0068 - mean_squared_error: 7.3716e-05 - val_loss: 0.0375 - val_mean_squared_error: 0.0018\n",
      "Epoch 38/100\n",
      "2127/2127 [==============================] - 2s 1ms/step - loss: 0.0066 - mean_squared_error: 7.2261e-05 - val_loss: 0.0298 - val_mean_squared_error: 0.0013\n",
      "Epoch 39/100\n",
      "2127/2127 [==============================] - 2s 1ms/step - loss: 0.0065 - mean_squared_error: 6.8836e-05 - val_loss: 0.0316 - val_mean_squared_error: 0.0014\n",
      "Epoch 40/100\n",
      "2127/2127 [==============================] - 2s 1ms/step - loss: 0.0066 - mean_squared_error: 6.9487e-05 - val_loss: 0.0371 - val_mean_squared_error: 0.0018\n",
      "Epoch 41/100\n",
      "2127/2127 [==============================] - 2s 1ms/step - loss: 0.0070 - mean_squared_error: 7.6588e-05 - val_loss: 0.0313 - val_mean_squared_error: 0.0014\n",
      "Epoch 42/100\n",
      "2127/2127 [==============================] - 2s 1ms/step - loss: 0.0065 - mean_squared_error: 6.5167e-05 - val_loss: 0.0332 - val_mean_squared_error: 0.0015\n",
      "Epoch 43/100\n",
      "2127/2127 [==============================] - 2s 1ms/step - loss: 0.0067 - mean_squared_error: 7.0824e-05 - val_loss: 0.0310 - val_mean_squared_error: 0.0014\n",
      "Epoch 44/100\n",
      "2127/2127 [==============================] - 3s 1ms/step - loss: 0.0062 - mean_squared_error: 6.2709e-05 - val_loss: 0.0282 - val_mean_squared_error: 0.0011\n",
      "Epoch 45/100\n",
      "2127/2127 [==============================] - 3s 1ms/step - loss: 0.0066 - mean_squared_error: 6.7723e-05 - val_loss: 0.0371 - val_mean_squared_error: 0.0017\n",
      "Epoch 46/100\n",
      "2127/2127 [==============================] - 2s 1ms/step - loss: 0.0063 - mean_squared_error: 6.4941e-05 - val_loss: 0.0294 - val_mean_squared_error: 0.0012\n",
      "Epoch 47/100\n",
      "2127/2127 [==============================] - 2s 1ms/step - loss: 0.0062 - mean_squared_error: 6.1257e-05 - val_loss: 0.0300 - val_mean_squared_error: 0.0013\n",
      "Epoch 48/100\n"
     ]
    },
    {
     "name": "stdout",
     "output_type": "stream",
     "text": [
      "2127/2127 [==============================] - 2s 990us/step - loss: 0.0065 - mean_squared_error: 6.5869e-05 - val_loss: 0.0238 - val_mean_squared_error: 8.5713e-04\n",
      "Epoch 49/100\n",
      "2127/2127 [==============================] - 2s 1ms/step - loss: 0.0064 - mean_squared_error: 6.4359e-05 - val_loss: 0.0235 - val_mean_squared_error: 8.3476e-04\n",
      "Epoch 50/100\n",
      "2127/2127 [==============================] - 2s 983us/step - loss: 0.0060 - mean_squared_error: 5.8918e-05 - val_loss: 0.0209 - val_mean_squared_error: 6.8636e-04\n",
      "Epoch 51/100\n",
      "2127/2127 [==============================] - 2s 997us/step - loss: 0.0062 - mean_squared_error: 6.2878e-05 - val_loss: 0.0322 - val_mean_squared_error: 0.0013\n",
      "Epoch 52/100\n",
      "2127/2127 [==============================] - ETA: 0s - loss: 0.0065 - mean_squared_error: 6.5562e- - 2s 1ms/step - loss: 0.0065 - mean_squared_error: 6.5514e-05 - val_loss: 0.0308 - val_mean_squared_error: 0.0012\n",
      "Epoch 53/100\n",
      "2127/2127 [==============================] - 2s 1ms/step - loss: 0.0061 - mean_squared_error: 5.8274e-05 - val_loss: 0.0213 - val_mean_squared_error: 7.2258e-04\n",
      "Epoch 54/100\n",
      "2127/2127 [==============================] - 2s 1ms/step - loss: 0.0060 - mean_squared_error: 5.7936e-05 - val_loss: 0.0345 - val_mean_squared_error: 0.0015\n",
      "Epoch 55/100\n",
      "2127/2127 [==============================] - 2s 1ms/step - loss: 0.0058 - mean_squared_error: 5.5739e-05 - val_loss: 0.0257 - val_mean_squared_error: 8.8292e-04\n",
      "Epoch 56/100\n",
      "2127/2127 [==============================] - 2s 1ms/step - loss: 0.0058 - mean_squared_error: 5.5701e-05 - val_loss: 0.0283 - val_mean_squared_error: 0.0010\n",
      "Epoch 57/100\n",
      "2127/2127 [==============================] - 2s 1ms/step - loss: 0.0057 - mean_squared_error: 5.4553e-05 - val_loss: 0.0312 - val_mean_squared_error: 0.0012\n",
      "Epoch 58/100\n",
      "2127/2127 [==============================] - 3s 1ms/step - loss: 0.0058 - mean_squared_error: 5.4367e-05 - val_loss: 0.0194 - val_mean_squared_error: 5.6905e-04\n",
      "Epoch 59/100\n",
      "2127/2127 [==============================] - 3s 1ms/step - loss: 0.0059 - mean_squared_error: 5.6370e-05 - val_loss: 0.0256 - val_mean_squared_error: 8.3729e-04\n",
      "Epoch 60/100\n",
      "2127/2127 [==============================] - 2s 968us/step - loss: 0.0055 - mean_squared_error: 4.8363e-05 - val_loss: 0.0253 - val_mean_squared_error: 8.3131e-04\n",
      "Epoch 61/100\n",
      "2127/2127 [==============================] - 2s 1ms/step - loss: 0.0056 - mean_squared_error: 5.1049e-05 - val_loss: 0.0223 - val_mean_squared_error: 6.2307e-04\n",
      "Epoch 62/100\n",
      "2127/2127 [==============================] - 2s 1ms/step - loss: 0.0059 - mean_squared_error: 5.6876e-05 - val_loss: 0.0135 - val_mean_squared_error: 2.9347e-04\n",
      "Epoch 63/100\n",
      "2127/2127 [==============================] - 2s 975us/step - loss: 0.0058 - mean_squared_error: 5.4345e-05 - val_loss: 0.0077 - val_mean_squared_error: 1.2554e-04\n",
      "Epoch 64/100\n",
      "2127/2127 [==============================] - 2s 1ms/step - loss: 0.0057 - mean_squared_error: 5.1901e-05 - val_loss: 0.0225 - val_mean_squared_error: 6.0419e-04\n",
      "Epoch 65/100\n",
      "2127/2127 [==============================] - 2s 1ms/step - loss: 0.0055 - mean_squared_error: 4.8284e-05 - val_loss: 0.0264 - val_mean_squared_error: 8.0480e-04\n",
      "Epoch 66/100\n",
      "2127/2127 [==============================] - 2s 983us/step - loss: 0.0054 - mean_squared_error: 4.5969e-05 - val_loss: 0.0093 - val_mean_squared_error: 1.4685e-04\n",
      "Epoch 67/100\n",
      "2127/2127 [==============================] - 2s 983us/step - loss: 0.0054 - mean_squared_error: 4.7497e-05 - val_loss: 0.0116 - val_mean_squared_error: 1.8874e-04\n",
      "Epoch 68/100\n",
      "2127/2127 [==============================] - 2s 975us/step - loss: 0.0053 - mean_squared_error: 4.5561e-05 - val_loss: 0.0184 - val_mean_squared_error: 3.8607e-04\n",
      "Epoch 69/100\n",
      "2127/2127 [==============================] - 2s 946us/step - loss: 0.0053 - mean_squared_error: 4.5936e-05 - val_loss: 0.0105 - val_mean_squared_error: 1.3795e-04\n",
      "Epoch 70/100\n",
      "2127/2127 [==============================] - 2s 1ms/step - loss: 0.0052 - mean_squared_error: 4.4399e-05 - val_loss: 0.0092 - val_mean_squared_error: 1.0603e-04\n",
      "Epoch 71/100\n",
      "2127/2127 [==============================] - 2s 1ms/step - loss: 0.0052 - mean_squared_error: 4.3210e-05 - val_loss: 0.0148 - val_mean_squared_error: 2.5142e-04\n",
      "Epoch 72/100\n",
      "2127/2127 [==============================] - 2s 968us/step - loss: 0.0053 - mean_squared_error: 4.5373e-05 - val_loss: 0.0149 - val_mean_squared_error: 2.3895e-04\n",
      "Epoch 73/100\n",
      "2127/2127 [==============================] - 2s 1ms/step - loss: 0.0053 - mean_squared_error: 4.4704e-05 - val_loss: 0.0115 - val_mean_squared_error: 1.4535e-04\n",
      "Epoch 74/100\n",
      "2127/2127 [==============================] - 2s 931us/step - loss: 0.0050 - mean_squared_error: 4.1495e-05 - val_loss: 0.0092 - val_mean_squared_error: 9.4504e-05\n",
      "Epoch 75/100\n",
      "2127/2127 [==============================] - 2s 931us/step - loss: 0.0049 - mean_squared_error: 3.9209e-05 - val_loss: 0.0092 - val_mean_squared_error: 9.3391e-05\n",
      "Epoch 76/100\n",
      "2127/2127 [==============================] - 2s 1ms/step - loss: 0.0049 - mean_squared_error: 3.9103e-05 - val_loss: 0.0143 - val_mean_squared_error: 2.2592e-04\n",
      "Epoch 77/100\n",
      "2127/2127 [==============================] - 2s 983us/step - loss: 0.0048 - mean_squared_error: 3.7967e-05 - val_loss: 0.0036 - val_mean_squared_error: 2.5249e-05\n",
      "Epoch 78/100\n",
      "2127/2127 [==============================] - 2s 1ms/step - loss: 0.0050 - mean_squared_error: 4.0137e-05 - val_loss: 0.0037 - val_mean_squared_error: 2.6782e-05\n",
      "Epoch 79/100\n",
      "2127/2127 [==============================] - 3s 1ms/step - loss: 0.0047 - mean_squared_error: 3.5907e-05 - val_loss: 0.0058 - val_mean_squared_error: 5.7972e-05\n",
      "Epoch 80/100\n",
      "2127/2127 [==============================] - 4s 2ms/step - loss: 0.0049 - mean_squared_error: 3.8747e-05 - val_loss: 0.0089 - val_mean_squared_error: 1.0817e-04\n",
      "Epoch 81/100\n",
      "2127/2127 [==============================] - 3s 1ms/step - loss: 0.0049 - mean_squared_error: 3.9317e-05 - val_loss: 0.0051 - val_mean_squared_error: 4.1350e-05\n",
      "Epoch 82/100\n",
      "2127/2127 [==============================] - 2s 1ms/step - loss: 0.0046 - mean_squared_error: 3.4615e-05 - val_loss: 0.0049 - val_mean_squared_error: 4.0587e-05\n",
      "Epoch 83/100\n",
      "2127/2127 [==============================] - 2s 1ms/step - loss: 0.0048 - mean_squared_error: 3.6806e-05 - val_loss: 0.0049 - val_mean_squared_error: 4.7910e-05\n",
      "Epoch 84/100\n",
      "2127/2127 [==============================] - 2s 1ms/step - loss: 0.0045 - mean_squared_error: 3.3219e-05 - val_loss: 0.0116 - val_mean_squared_error: 2.0935e-04\n",
      "Epoch 85/100\n",
      "2127/2127 [==============================] - 2s 1ms/step - loss: 0.0047 - mean_squared_error: 3.5005e-05 - val_loss: 0.0095 - val_mean_squared_error: 1.6403e-04\n",
      "Epoch 86/100\n",
      "2127/2127 [==============================] - 2s 1ms/step - loss: 0.0047 - mean_squared_error: 3.4976e-05 - val_loss: 0.0156 - val_mean_squared_error: 3.4820e-04\n",
      "Epoch 87/100\n",
      "2127/2127 [==============================] - 2s 1ms/step - loss: 0.0045 - mean_squared_error: 3.3392e-05 - val_loss: 0.0069 - val_mean_squared_error: 9.5438e-05\n",
      "Epoch 88/100\n",
      "2127/2127 [==============================] - 2s 1ms/step - loss: 0.0045 - mean_squared_error: 3.3981e-05 - val_loss: 0.0088 - val_mean_squared_error: 1.4977e-04\n",
      "Epoch 89/100\n",
      "2127/2127 [==============================] - 2s 1ms/step - loss: 0.0044 - mean_squared_error: 3.0841e-05 - val_loss: 0.0121 - val_mean_squared_error: 2.4746e-04\n",
      "Epoch 90/100\n",
      "2127/2127 [==============================] - 2s 1ms/step - loss: 0.0043 - mean_squared_error: 3.0590e-05 - val_loss: 0.0139 - val_mean_squared_error: 3.0967e-04\n",
      "Epoch 91/100\n",
      "2127/2127 [==============================] - 2s 1ms/step - loss: 0.0044 - mean_squared_error: 3.1912e-05 - val_loss: 0.0136 - val_mean_squared_error: 3.0302e-04\n",
      "Epoch 92/100\n",
      "2127/2127 [==============================] - 2s 1ms/step - loss: 0.0043 - mean_squared_error: 2.9789e-05 - val_loss: 0.0277 - val_mean_squared_error: 9.3646e-04\n",
      "Epoch 93/100\n",
      "2127/2127 [==============================] - 2s 1ms/step - loss: 0.0043 - mean_squared_error: 3.0621e-05 - val_loss: 0.0120 - val_mean_squared_error: 2.5295e-04\n",
      "Epoch 94/100\n",
      "2127/2127 [==============================] - 2s 1ms/step - loss: 0.0041 - mean_squared_error: 2.7731e-05 - val_loss: 0.0102 - val_mean_squared_error: 1.9833e-04\n"
     ]
    },
    {
     "name": "stdout",
     "output_type": "stream",
     "text": [
      "Epoch 95/100\n",
      "2127/2127 [==============================] - 2s 983us/step - loss: 0.0042 - mean_squared_error: 2.9330e-05 - val_loss: 0.0062 - val_mean_squared_error: 7.0829e-05\n",
      "Epoch 96/100\n",
      "2127/2127 [==============================] - 2s 990us/step - loss: 0.0041 - mean_squared_error: 2.8063e-05 - val_loss: 0.0134 - val_mean_squared_error: 3.0044e-04\n",
      "Epoch 97/100\n",
      "2127/2127 [==============================] - 2s 1ms/step - loss: 0.0042 - mean_squared_error: 2.8690e-05 - val_loss: 0.0147 - val_mean_squared_error: 3.3023e-04\n",
      "Epoch 98/100\n",
      "2127/2127 [==============================] - 2s 983us/step - loss: 0.0041 - mean_squared_error: 2.7860e-05 - val_loss: 0.0081 - val_mean_squared_error: 1.2144e-04\n",
      "Epoch 99/100\n",
      "2127/2127 [==============================] - 2s 968us/step - loss: 0.0041 - mean_squared_error: 2.7275e-05 - val_loss: 0.0209 - val_mean_squared_error: 5.7434e-04\n",
      "Epoch 100/100\n",
      "2127/2127 [==============================] - 2s 983us/step - loss: 0.0042 - mean_squared_error: 2.8520e-05 - val_loss: 0.0136 - val_mean_squared_error: 2.9166e-04\n"
     ]
    }
   ],
   "source": [
    "#initialize model\n",
    "\n",
    "\n",
    "from keras.models import Sequential\n",
    "from keras.layers import Dense, Activation\n",
    "from keras.layers import LSTM,Dropout\n",
    "\n",
    "model = Sequential()\n",
    " \n",
    "\n",
    "model.add(LSTM(units=300, return_sequences=True, input_shape = (X_train.shape[1], 4)))\n",
    "model.add(Dropout(.2))\n",
    " \n",
    "\n",
    "model.add(LSTM(units=150, return_sequences=False))\n",
    "model.add(Dropout(.2))\n",
    "\n",
    "\n",
    "\n",
    "\n",
    "model.add(Dense(units=1, activation='sigmoid'))\n",
    " \n",
    "# Compiling the RN\n",
    "model.compile(loss='mae', optimizer='nadam', metrics=['mean_squared_error'])\n",
    "\n",
    "# Train :)\n",
    "history = model.fit(X_train,y_train, epochs=100,validation_split=0.1, batch_size=32)\n",
    "\n",
    "############ Save & load Trained Model ############\n",
    "# Save Trained Model\n",
    "model.save('TICKER-RNN.h5')\n",
    "\n"
   ]
  },
  {
   "cell_type": "code",
   "execution_count": 18,
   "metadata": {},
   "outputs": [
    {
     "data": {
      "image/png": "[encoded data removed]",
      "text/plain": [
       "<Figure size 432x288 with 1 Axes>"
      ]
     },
     "metadata": {
      "needs_background": "light"
     },
     "output_type": "display_data"
    }
   ],
   "source": [
    "plt.plot(history.history['loss'], label='train')\n",
    "plt.plot(history.history['val_loss'], label='valid')\n",
    "plt.legend()\n",
    "plt.show()"
   ]
  },
  {
   "cell_type": "code",
   "execution_count": 19,
   "metadata": {},
   "outputs": [],
   "source": [
    "trainPredict = model.predict(X_train)\n",
    "testPredict = model.predict(X_test)\n"
   ]
  },
  {
   "cell_type": "code",
   "execution_count": 20,
   "metadata": {},
   "outputs": [
    {
     "data": {
      "text/plain": [
       "(0.9110467131714055, 0.04421892604371353)"
      ]
     },
     "execution_count": 20,
     "metadata": {},
     "output_type": "execute_result"
    }
   ],
   "source": [
    "\n",
    "\n",
    "from sklearn.metrics import r2_score, mean_squared_error\n",
    "r2_score(y_test,testPredict),np.sqrt(mean_squared_error(y_test,testPredict))\n",
    "\n"
   ]
  },
  {
   "cell_type": "code",
   "execution_count": 39,
   "metadata": {},
   "outputs": [
    {
     "name": "stdout",
     "output_type": "stream",
     "text": [
      "Train on 2123 samples, validate on 236 samples\n",
      "Epoch 1/20\n",
      "2123/2123 [==============================] - 5s 2ms/step - loss: 0.0658 - mean_squared_error: 0.0101 - val_loss: 0.1181 - val_mean_squared_error: 0.0144\n",
      "Epoch 2/20\n",
      "2123/2123 [==============================] - 3s 1ms/step - loss: 0.0295 - mean_squared_error: 0.0014 - val_loss: 0.0417 - val_mean_squared_error: 0.0019\n",
      "Epoch 3/20\n",
      "2123/2123 [==============================] - 3s 1ms/step - loss: 0.0226 - mean_squared_error: 7.7809e-04 - val_loss: 0.0225 - val_mean_squared_error: 8.9956e-04\n",
      "Epoch 4/20\n",
      "2123/2123 [==============================] - 3s 1ms/step - loss: 0.0177 - mean_squared_error: 4.9272e-04 - val_loss: 0.0427 - val_mean_squared_error: 0.0021\n",
      "Epoch 5/20\n",
      "2123/2123 [==============================] - 3s 1ms/step - loss: 0.0159 - mean_squared_error: 3.9516e-04 - val_loss: 0.0477 - val_mean_squared_error: 0.0025\n",
      "Epoch 6/20\n",
      "2123/2123 [==============================] - 3s 1ms/step - loss: 0.0136 - mean_squared_error: 2.9473e-04 - val_loss: 0.0157 - val_mean_squared_error: 3.7663e-04\n",
      "Epoch 7/20\n",
      "2123/2123 [==============================] - 3s 1ms/step - loss: 0.0144 - mean_squared_error: 3.2000e-04 - val_loss: 0.0626 - val_mean_squared_error: 0.0046\n",
      "Epoch 8/20\n",
      "2123/2123 [==============================] - 3s 1ms/step - loss: 0.0134 - mean_squared_error: 2.8440e-04 - val_loss: 0.0116 - val_mean_squared_error: 2.4742e-04\n",
      "Epoch 9/20\n",
      "2123/2123 [==============================] - 3s 1ms/step - loss: 0.0138 - mean_squared_error: 2.9412e-04 - val_loss: 0.0151 - val_mean_squared_error: 3.6105e-04\n",
      "Epoch 10/20\n",
      "2123/2123 [==============================] - 3s 1ms/step - loss: 0.0127 - mean_squared_error: 2.5378e-04 - val_loss: 0.0189 - val_mean_squared_error: 5.7918e-04\n",
      "Epoch 11/20\n",
      "2123/2123 [==============================] - 3s 1ms/step - loss: 0.0128 - mean_squared_error: 2.5480e-04 - val_loss: 0.0382 - val_mean_squared_error: 0.0018\n",
      "Epoch 12/20\n",
      "2123/2123 [==============================] - 3s 1ms/step - loss: 0.0125 - mean_squared_error: 2.4615e-04 - val_loss: 0.0234 - val_mean_squared_error: 7.2815e-04\n",
      "Epoch 13/20\n",
      "2123/2123 [==============================] - 3s 1ms/step - loss: 0.0120 - mean_squared_error: 2.2712e-04 - val_loss: 0.0128 - val_mean_squared_error: 2.8388e-04\n",
      "Epoch 14/20\n",
      "2123/2123 [==============================] - 3s 1ms/step - loss: 0.0118 - mean_squared_error: 2.2371e-04 - val_loss: 0.0136 - val_mean_squared_error: 3.0754e-04\n",
      "Epoch 15/20\n",
      "2123/2123 [==============================] - 3s 1ms/step - loss: 0.0115 - mean_squared_error: 2.1260e-04 - val_loss: 0.0667 - val_mean_squared_error: 0.0050\n",
      "Epoch 16/20\n",
      "2123/2123 [==============================] - 3s 1ms/step - loss: 0.0116 - mean_squared_error: 2.1816e-04 - val_loss: 0.0112 - val_mean_squared_error: 2.3066e-04\n",
      "Epoch 17/20\n",
      "2123/2123 [==============================] - 3s 1ms/step - loss: 0.0114 - mean_squared_error: 2.0511e-04 - val_loss: 0.0425 - val_mean_squared_error: 0.0019\n",
      "Epoch 18/20\n",
      "2123/2123 [==============================] - 3s 1ms/step - loss: 0.0116 - mean_squared_error: 2.1570e-04 - val_loss: 0.0315 - val_mean_squared_error: 0.0011\n",
      "Epoch 19/20\n",
      "2123/2123 [==============================] - 3s 1ms/step - loss: 0.0113 - mean_squared_error: 2.0303e-04 - val_loss: 0.0246 - val_mean_squared_error: 7.2206e-04\n",
      "Epoch 20/20\n",
      "2123/2123 [==============================] - 3s 1ms/step - loss: 0.0108 - mean_squared_error: 1.8888e-04 - val_loss: 0.0085 - val_mean_squared_error: 1.3252e-04\n"
     ]
    }
   ],
   "source": [
    "#Improving the LTSM Model\n",
    "\n",
    "from keras.models import Sequential\n",
    "from keras.layers import Dense, Activation\n",
    "from keras.layers import LSTM,Dropout\n",
    "\n",
    "model = Sequential()\n",
    " \n",
    "\n",
    "model.add(LSTM(units=200, return_sequences=True, input_shape = (X_train2.shape[1], 4)))\n",
    "model.add(Dropout(.2))\n",
    " \n",
    "\n",
    "model.add(LSTM(units=100, return_sequences=False))\n",
    "model.add(Dropout(.2))\n",
    "\n",
    "\n",
    "\n",
    "\n",
    "model.add(Dense(units=1, activation='sigmoid'))\n",
    " \n",
    "model.compile(loss='mae', optimizer='nadam', metrics=['mean_squared_error'])\n",
    "\n",
    "history = model.fit(X_train2,y_train2, epochs=20,validation_split=0.1, batch_size=32)"
   ]
  },
  {
   "cell_type": "code",
   "execution_count": 40,
   "metadata": {},
   "outputs": [],
   "source": [
    "trainPredict = model.predict(X_train2)\n",
    "testPredict = model.predict(X_test2)"
   ]
  },
  {
   "cell_type": "code",
   "execution_count": 41,
   "metadata": {},
   "outputs": [
    {
     "data": {
      "text/plain": [
       "(0.9560398615848988, 0.031087049091358874)"
      ]
     },
     "execution_count": 41,
     "metadata": {},
     "output_type": "execute_result"
    }
   ],
   "source": [
    "from sklearn.metrics import r2_score, mean_squared_error\n",
    "r2_score(y_test2,testPredict),np.sqrt(mean_squared_error(y_test2,testPredict))\n",
    "\n"
   ]
  },
  {
   "cell_type": "code",
   "execution_count": 42,
   "metadata": {},
   "outputs": [
    {
     "data": {
      "image/png": "[encoded data removed]",
      "text/plain": [
       "<Figure size 432x288 with 1 Axes>"
      ]
     },
     "metadata": {
      "needs_background": "light"
     },
     "output_type": "display_data"
    }
   ],
   "source": [
    "plt.plot(testPredict, label='prediction')\n",
    "plt.plot(y_test2, label='truth')\n",
    "plt.legend()\n",
    "plt.show()"
   ]
  },
  {
   "cell_type": "code",
   "execution_count": 24,
   "metadata": {},
   "outputs": [
    {
     "name": "stdout",
     "output_type": "stream",
     "text": [
      "         Date       Open       High        Low      Close  Adj Close    Volume\n",
      "0  2004-08-19  32.630001  32.740002  32.330002  32.709999  19.719440  13998500\n",
      "1  2004-08-20  32.660000  32.799999  32.490002  32.650002  19.683273  16269200\n",
      "2  2004-08-23  32.680000  32.740002  32.459999  32.509998  19.598867  13402200\n",
      "3  2004-08-24  32.700001  32.750000  32.410000  32.630001  19.671211  15862300\n",
      "4  2004-08-25  32.520000  32.990002  32.419998  32.790001  19.767666  15740300\n"
     ]
    }
   ],
   "source": [
    "\n",
    "import math\n",
    "import pandas as pd\n",
    "import numpy as np\n",
    "\n",
    "# import Google Finanace API libraries\n",
    "from googlefinance.client import get_price_data\n",
    "\n",
    "# import data visualization libraries\n",
    "import matplotlib.pyplot as plt\n",
    "import matplotlib.dates as mdates\n",
    "\n",
    "# import other libraries\n",
    "import datetime as dt\n",
    "import time\n",
    "#Check Model with different stock \n",
    "\n",
    "\n",
    "def get_data(path):\n",
    "    dataframe=pd.read_csv(path)\n",
    "    print(dataframe.head())\n",
    "    \n",
    "    return\n",
    "\n",
    "data= get_data('GE.csv')"
   ]
  },
  {
   "cell_type": "code",
   "execution_count": 25,
   "metadata": {},
   "outputs": [],
   "source": [
    "import csv\n",
    "\n",
    "with open('GE.csv', 'r') as infile, open('GE_ORDER.csv', 'a') as outfile:\n",
    "    \n",
    "    fieldnames = ['Date', 'Open', 'Volume','High','Low','Close', 'Adj Close']\n",
    "    writer = csv.DictWriter(outfile, fieldnames=fieldnames)\n",
    "\n",
    "    writer.writeheader()\n",
    "    for row in csv.DictReader(infile):\n",
    "      \n",
    "        writer.writerow(row)"
   ]
  },
  {
   "cell_type": "code",
   "execution_count": 26,
   "metadata": {},
   "outputs": [
    {
     "name": "stdout",
     "output_type": "stream",
     "text": [
      "         Date       Open    Volume       High        Low      Close  Adj Close\n",
      "0  2004-08-19  32.630001  13998500  32.740002  32.330002  32.709999  19.719440\n",
      "1  2004-08-20  32.660000  16269200  32.799999  32.490002  32.650002  19.683273\n",
      "2  2004-08-23  32.680000  13402200  32.740002  32.459999  32.509998  19.598867\n",
      "3  2004-08-24  32.700001  15862300  32.750000  32.410000  32.630001  19.671211\n",
      "4  2004-08-25  32.520000  15740300  32.990002  32.419998  32.790001  19.767666\n"
     ]
    }
   ],
   "source": [
    "dataset = pd.read_csv('GE_ORDER.csv')\n",
    "print(dataset.head())"
   ]
  },
  {
   "cell_type": "code",
   "execution_count": 27,
   "metadata": {},
   "outputs": [
    {
     "name": "stdout",
     "output_type": "stream",
     "text": [
      "[0.73441045 0.01208164 0.73270433 0.74088513 0.7329386  0.58936811]\n",
      "(3378, 1)\n",
      "(3378, 4)\n",
      "(3378, 1)\n"
     ]
    }
   ],
   "source": [
    "data=dataset.iloc[:,1:7].values\n",
    "new_data = scaler.fit_transform(data)\n",
    "print(new_data[1])\n",
    "\n",
    "train_X = new_data[:,0:4]\n",
    "\n",
    "train_y_old = new_data[:,4]\n",
    "\n",
    "train_Y = []\n",
    "for i in train_y_old:\n",
    "    train_Y.append([i])\n",
    "train_Y = np.array(train_Y)\n",
    "print(train_Y.shape)\n",
    "\n",
    "\n",
    "train_X = np.array(train_X)\n",
    "train_Y = np.array(train_Y)\n",
    "\n",
    "print(train_X .shape)\n",
    "print(train_Y.shape)\n",
    "\n",
    "window = 5\n",
    "train_X = windowing(train_X , window)\n",
    "train_Y = train_Y[-train_X .shape[0]:]\n",
    "\n"
   ]
  },
  {
   "cell_type": "code",
   "execution_count": 28,
   "metadata": {},
   "outputs": [
    {
     "name": "stdout",
     "output_type": "stream",
     "text": [
      "(3373, 5, 4)\n",
      "(3373, 1)\n"
     ]
    }
   ],
   "source": [
    "print(train_X.shape)\n",
    "print(train_Y.shape)"
   ]
  },
  {
   "cell_type": "code",
   "execution_count": 29,
   "metadata": {},
   "outputs": [],
   "source": [
    "trainPredict = model.predict(train_X)"
   ]
  },
  {
   "cell_type": "code",
   "execution_count": 30,
   "metadata": {},
   "outputs": [
    {
     "data": {
      "text/plain": [
       "(0.9639816635549392, 0.04097459145117883)"
      ]
     },
     "execution_count": 30,
     "metadata": {},
     "output_type": "execute_result"
    }
   ],
   "source": [
    "from sklearn.metrics import r2_score, mean_squared_error\n",
    "r2_score(train_Y,trainPredict),np.sqrt(mean_squared_error(train_Y,trainPredict))"
   ]
  },
  {
   "cell_type": "code",
   "execution_count": 31,
   "metadata": {},
   "outputs": [
    {
     "data": {
      "image/png": "[encoded data removed]",
      "text/plain": [
       "<Figure size 432x288 with 1 Axes>"
      ]
     },
     "metadata": {
      "needs_background": "light"
     },
     "output_type": "display_data"
    }
   ],
   "source": [
    "plt.plot(trainPredict, label='prediction')\n",
    "plt.plot(train_Y, label='truth')\n",
    "plt.legend()\n",
    "plt.show()\n",
    "\n"
   ]
  },
  {
   "cell_type": "code",
   "execution_count": null,
   "metadata": {},
   "outputs": [],
   "source": []
  },
  {
   "cell_type": "code",
   "execution_count": null,
   "metadata": {},
   "outputs": [],
   "source": []
  },
  {
   "cell_type": "code",
   "execution_count": null,
   "metadata": {},
   "outputs": [],
   "source": []
  },
  {
   "cell_type": "code",
   "execution_count": null,
   "metadata": {},
   "outputs": [],
   "source": []
  }
 ],
 "metadata": {
  "kernelspec": {
   "display_name": "Python 3",
   "language": "python",
   "name": "python3"
  },
  "language_info": {
   "codemirror_mode": {
    "name": "ipython",
    "version": 3
   },
   "file_extension": ".py",
   "mimetype": "text/x-python",
   "name": "python",
   "nbconvert_exporter": "python",
   "pygments_lexer": "ipython3",
   "version": "3.6.8"
  }
 },
 "nbformat": 4,
 "nbformat_minor": 2
}
